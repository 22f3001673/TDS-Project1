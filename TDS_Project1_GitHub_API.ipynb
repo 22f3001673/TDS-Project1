{
  "nbformat": 4,
  "nbformat_minor": 0,
  "metadata": {
    "colab": {
      "provenance": []
    },
    "kernelspec": {
      "name": "python3",
      "display_name": "Python 3"
    },
    "language_info": {
      "name": "python"
    }
  },
  "cells": [
    {
      "cell_type": "code",
      "execution_count": null,
      "metadata": {
        "colab": {
          "base_uri": "https://localhost:8080/"
        },
        "collapsed": true,
        "id": "HDePRmNRSZmF",
        "outputId": "a63300b4-da44-42e0-ad73-9c1eeb4a5f6d"
      },
      "outputs": [
        {
          "output_type": "stream",
          "name": "stdout",
          "text": [
            "Requirement already satisfied: requests in /usr/local/lib/python3.10/dist-packages (2.32.3)\n",
            "Requirement already satisfied: charset-normalizer<4,>=2 in /usr/local/lib/python3.10/dist-packages (from requests) (3.4.0)\n",
            "Requirement already satisfied: idna<4,>=2.5 in /usr/local/lib/python3.10/dist-packages (from requests) (3.10)\n",
            "Requirement already satisfied: urllib3<3,>=1.21.1 in /usr/local/lib/python3.10/dist-packages (from requests) (2.2.3)\n",
            "Requirement already satisfied: certifi>=2017.4.17 in /usr/local/lib/python3.10/dist-packages (from requests) (2024.8.30)\n"
          ]
        }
      ],
      "source": [
        "# install requests for API calls\n",
        "!pip install requests\n"
      ]
    },
    {
      "cell_type": "code",
      "source": [
        "#import requests library\n",
        "import requests\n"
      ],
      "metadata": {
        "id": "eOa-15Q_TdTD"
      },
      "execution_count": null,
      "outputs": []
    },
    {
      "cell_type": "code",
      "source": [
        "# import Pandas library for CSV file handling\n",
        "import pandas as pd\n"
      ],
      "metadata": {
        "id": "w3L8rNvrTfFO"
      },
      "execution_count": 2,
      "outputs": []
    },
    {
      "cell_type": "code",
      "source": [
        "GITHUB_TOKEN = ''     # replace the empty string with GitHub Token"
      ],
      "metadata": {
        "id": "DBjMVr2XTgXK"
      },
      "execution_count": null,
      "outputs": []
    },
    {
      "cell_type": "code",
      "source": [
        "headers = {\n",
        "    'Authorization': f'token {GITHUB_TOKEN}',\n",
        "    'Accept': 'application/vnd.github.v3+json'\n",
        "}"
      ],
      "metadata": {
        "colab": {
          "base_uri": "https://localhost:8080/"
        },
        "collapsed": true,
        "id": "hrpkjwF-TtIy",
        "outputId": "9395fa43-be49-4683-f9c4-de3750abe095"
      },
      "execution_count": null,
      "outputs": [
        {
          "output_type": "stream",
          "name": "stdout",
          "text": [
            "200 {'login': 'adnanksa', 'id': 43119179, 'node_id': 'MDQ6VXNlcjQzMTE5MTc5', 'avatar_url': 'https://avatars.githubusercontent.com/u/43119179?v=4', 'gravatar_id': '', 'url': 'https://api.github.com/users/adnanksa', 'html_url': 'https://github.com/adnanksa', 'followers_url': 'https://api.github.com/users/adnanksa/followers', 'following_url': 'https://api.github.com/users/adnanksa/following{/other_user}', 'gists_url': 'https://api.github.com/users/adnanksa/gists{/gist_id}', 'starred_url': 'https://api.github.com/users/adnanksa/starred{/owner}{/repo}', 'subscriptions_url': 'https://api.github.com/users/adnanksa/subscriptions', 'organizations_url': 'https://api.github.com/users/adnanksa/orgs', 'repos_url': 'https://api.github.com/users/adnanksa/repos', 'events_url': 'https://api.github.com/users/adnanksa/events{/privacy}', 'received_events_url': 'https://api.github.com/users/adnanksa/received_events', 'type': 'User', 'user_view_type': 'public', 'site_admin': False, 'name': None, 'company': None, 'blog': '', 'location': None, 'email': None, 'hireable': None, 'bio': None, 'twitter_username': None, 'notification_email': None, 'public_repos': 4, 'public_gists': 0, 'followers': 0, 'following': 0, 'created_at': '2018-09-09T19:48:49Z', 'updated_at': '2024-10-29T17:21:43Z'}\n"
          ]
        }
      ]
    },
    {
      "cell_type": "code",
      "source": [
        "# Initialize lists to store user\n",
        "users_data = []"
      ],
      "metadata": {
        "id": "FH72tNvSTvFH"
      },
      "execution_count": null,
      "outputs": []
    },
    {
      "cell_type": "markdown",
      "source": [
        "**Cleaning up company names as follows:**\n",
        "\n",
        "---\n",
        "\n",
        "\n",
        "\n",
        "1.   They are trimmed of whitespace\n",
        "2.   Leading @ symbols are stripped\n",
        "3.   They are converted to UPPERCASE\n",
        "\n",
        "\n",
        "---"
      ],
      "metadata": {
        "id": "r-yrgHxCTyl-"
      }
    },
    {
      "cell_type": "markdown",
      "source": [
        "**Required user fields to fetch are as follows:**\n",
        "\n",
        "\n",
        "---\n",
        "\n",
        "\n",
        "1.   **login:** Their Github user ID\n",
        "2.   **name:** Their full name\n",
        "3.   **company:** The company they work at\n",
        "4.   **location:** The city they are in\n",
        "5.   **email:** Their email address\n",
        "6.   **hireable:** Whether they are open to being hired\n",
        "7.   **bio:** A short bio about them\n",
        "8.   **public_repos:** The number of public repositories they have\n",
        "9.   **followers:** The number of followers they have\n",
        "10.  **following:** The number of people they are following\n",
        "11.  **created_at:** When they joined Github\n",
        "\n",
        "\n",
        "---"
      ],
      "metadata": {
        "id": "YP7AWoqfT2mk"
      }
    },
    {
      "cell_type": "code",
      "source": [
        "def clean_company_name(company):\n",
        "  \"\"\"Clean up the company name as per the specified above rules.\"\"\"\n",
        "  if not company:\n",
        "    return \"\"\n",
        "  company = company.strip()        #Remove leading/trailing whitespace\n",
        "  company = company.lstrip('@')    #Remove leading @ symbol\n",
        "  return company.upper()           #Convert to UPPERCASE"
      ],
      "metadata": {
        "id": "9DphUhKpTzsz"
      },
      "execution_count": null,
      "outputs": []
    },
    {
      "cell_type": "code",
      "source": [
        "def fetch_users(city, min_followers=51):\n",
        "  \"\"\"Fetch users from GitHub API based on city with more than min_followers.\"\"\"\n",
        "  page = 1\n",
        "  while True:\n",
        "    url = f'https://api.github.com/search/users?q=location:{city}+followers:>={min_followers}&per_page=100&page={page}'\n",
        "    response = requests.get(url, headers=headers)\n",
        "\n",
        "    if response.status_code != 200:\n",
        "      print(f\"Failed to fetch users: {response.status_code}\")\n",
        "      break\n",
        "\n",
        "    data = response.json()\n",
        "    items = data.get('items', [])\n",
        "\n",
        "    if not items:\n",
        "      break\n",
        "\n",
        "    for user in items:\n",
        "      #Fetch detailed user info from individual user endpoint\n",
        "      user_detail = requests.get(user['url'], headers=headers).json()\n",
        "\n",
        "      user_data = {\n",
        "                'login': user_detail.get('login', ''),\n",
        "                'name': user_detail.get('name', ''),\n",
        "                'company': clean_company_name(user_detail.get('company', '')),\n",
        "                'location': user_detail.get('location', ''),\n",
        "                'email': user_detail.get('email', ''),\n",
        "                'hireable': user_detail.get('hireable', ''),\n",
        "                'bio': user_detail.get('bio', ''),\n",
        "                'public_repos': user_detail.get('public_repos', 0),\n",
        "                'followers': user_detail.get('followers', 0),\n",
        "                'following': user_detail.get('following', 0),\n",
        "                'created_at': user_detail.get('created_at', '')\n",
        "            }\n",
        "      users_data.append(user_data)\n",
        "\n",
        "    page += 1"
      ],
      "metadata": {
        "id": "wbgPkqnKT7iR"
      },
      "execution_count": null,
      "outputs": []
    },
    {
      "cell_type": "code",
      "source": [
        "# Fetch users in Mumbai with over 50 followers\n",
        "fetch_users(\"Mumbai\")"
      ],
      "metadata": {
        "id": "o0W1M5_JUCE8"
      },
      "execution_count": null,
      "outputs": []
    },
    {
      "cell_type": "code",
      "source": [
        "# Save data to users.csv\n",
        "users_df = pd.DataFrame(users_data)\n",
        "users_df.to_csv('users.csv', index=False)"
      ],
      "metadata": {
        "id": "ByQZTl4YVEJw"
      },
      "execution_count": null,
      "outputs": []
    },
    {
      "cell_type": "code",
      "source": [
        "import time"
      ],
      "metadata": {
        "id": "U6jfEmv1VJhU"
      },
      "execution_count": null,
      "outputs": []
    },
    {
      "cell_type": "code",
      "source": [
        "# Load users data to get the list of users to query\n",
        "users_df = pd.read_csv('users.csv')\n",
        "repos_data = []"
      ],
      "metadata": {
        "id": "_HIuWKkHVMCO"
      },
      "execution_count": null,
      "outputs": []
    },
    {
      "cell_type": "code",
      "source": [
        "def fetch_repos(username):\n",
        "    \"\"\"Fetch up to 500 most recently pushed repositories for a given user.\"\"\"\n",
        "    page = 1\n",
        "    repos_fetched = 0\n",
        "    while repos_fetched < 500:\n",
        "        url = f'https://api.github.com/users/{username}/repos?per_page=100&page={page}&sort=pushed'\n",
        "        response = requests.get(url, headers=headers)\n",
        "\n",
        "        if response.status_code != 200:\n",
        "            print(f\"Failed to fetch repos for {username}: {response.status_code}\")\n",
        "            break\n",
        "\n",
        "        repos = response.json()\n",
        "        if not repos:\n",
        "            break\n",
        "\n",
        "        for repo in repos:\n",
        "            repo_data = {\n",
        "                'login': username,\n",
        "                'full_name': repo.get('full_name', ''),\n",
        "                'created_at': repo.get('created_at', ''),\n",
        "                'stargazers_count': repo.get('stargazers_count', 0),\n",
        "                'watchers_count': repo.get('watchers_count', 0),\n",
        "                'language': repo.get('language', ''),\n",
        "                'has_projects': repo.get('has_projects', False),\n",
        "                'has_wiki': repo.get('has_wiki', False),\n",
        "                'license_name': repo.get('license', {}).get('key', '') if repo.get('license') else ''\n",
        "            }\n",
        "            repos_data.append(repo_data)\n",
        "            repos_fetched += 1\n",
        "\n",
        "            if repos_fetched >= 500:\n",
        "                break\n",
        "\n",
        "        page += 1\n",
        "        time.sleep(1)  # To avoid hitting rate limits"
      ],
      "metadata": {
        "id": "FT63Uai-VPlP"
      },
      "execution_count": null,
      "outputs": []
    },
    {
      "cell_type": "code",
      "source": [
        "# Fetch repositories for each user in users.csv\n",
        "for user in users_df['login']:\n",
        "    print(f\"Fetching repos for user: {user}\")\n",
        "    fetch_repos(user)\n",
        "\n",
        "    # Save data incrementally after each user\n",
        "    if repos_data:\n",
        "        repos_df = pd.DataFrame(repos_data)\n",
        "        repos_df.to_csv('repositories.csv', index=False)\n",
        "\n",
        "print(\"Repository data fetching complete.\")"
      ],
      "metadata": {
        "colab": {
          "base_uri": "https://localhost:8080/"
        },
        "collapsed": true,
        "id": "Ia-MFrn_WZe8",
        "outputId": "6e243adb-a48a-4a30-94ba-d850577981ff"
      },
      "execution_count": null,
      "outputs": [
        {
          "output_type": "stream",
          "name": "stdout",
          "text": [
            "Fetching repos for user: ValentineFernandes\n",
            "Fetching repos for user: kovidgoyal\n",
            "Fetching repos for user: slidenerd\n",
            "Fetching repos for user: aryashah2k\n",
            "Fetching repos for user: coding-parrot\n",
            "Fetching repos for user: gkcs\n",
            "Fetching repos for user: darshilparmar\n",
            "Fetching repos for user: Kushal334\n",
            "Fetching repos for user: ritz078\n",
            "Fetching repos for user: PrasoonPratham\n",
            "Fetching repos for user: rmehta\n",
            "Fetching repos for user: LakshyaDuhoonISU\n",
            "Fetching repos for user: dmalvia\n",
            "Fetching repos for user: PiyushKumarSingh-90\n",
            "Fetching repos for user: mfaisalkhatri\n",
            "Fetching repos for user: omsandippatil\n",
            "Fetching repos for user: anujvyas\n",
            "Fetching repos for user: jalajthanaki\n",
            "Fetching repos for user: alisolanki\n",
            "Fetching repos for user: ForceGT\n",
            "Fetching repos for user: Sahil4883\n",
            "Fetching repos for user: yTakkar\n",
            "Fetching repos for user: saineshwar\n",
            "Fetching repos for user: codescientists\n",
            "Fetching repos for user: amangoeliitb\n",
            "Fetching repos for user: debugger22\n",
            "Fetching repos for user: shifa123\n",
            "Fetching repos for user: shyamseshadri\n",
            "Fetching repos for user: alokproc\n",
            "Fetching repos for user: prasadgujar\n",
            "Fetching repos for user: Alexcj10\n",
            "Fetching repos for user: rjsamra\n",
            "Fetching repos for user: Bhaviktutorials\n",
            "Fetching repos for user: aayushi-droid\n",
            "Fetching repos for user: sai-sondarkar\n",
            "Fetching repos for user: Akshayrane848\n",
            "Fetching repos for user: ashkulz\n",
            "Fetching repos for user: ankit0183\n",
            "Fetching repos for user: theashishgavade\n",
            "Fetching repos for user: Suraj-Upadhyay\n",
            "Fetching repos for user: CodeChef-Admin\n",
            "Fetching repos for user: nabinhait\n",
            "Fetching repos for user: sanket-25\n",
            "Fetching repos for user: AgentFabulous\n",
            "Fetching repos for user: sakshikore16\n",
            "Fetching repos for user: HarshilShah\n",
            "Fetching repos for user: neobuddy89\n",
            "Fetching repos for user: pranitbauva1997\n",
            "Fetching repos for user: TanmayGharat1505\n",
            "Fetching repos for user: burhanuday\n",
            "Fetching repos for user: PremThakareitm\n",
            "Fetching repos for user: zemse\n",
            "Fetching repos for user: Dhanush-Saji\n",
            "Fetching repos for user: dr5hn\n",
            "Fetching repos for user: saketkc\n",
            "Fetching repos for user: BelieveC\n",
            "Fetching repos for user: deadcoder0904\n",
            "Fetching repos for user: TejasMedade\n",
            "Fetching repos for user: SphericalKat\n",
            "Fetching repos for user: ProgrammerGaurav\n",
            "Fetching repos for user: eyantra\n",
            "Fetching repos for user: shailypriya\n",
            "Fetching repos for user: msnimish\n",
            "Fetching repos for user: itsnitinr\n",
            "Fetching repos for user: arihantbansal\n",
            "Fetching repos for user: arunkudiyal\n",
            "Fetching repos for user: wajeshubham\n",
            "Fetching repos for user: revant\n",
            "Fetching repos for user: ruchamahabal\n",
            "Fetching repos for user: abdullah768\n",
            "Fetching repos for user: veb-101\n",
            "Fetching repos for user: amhsirak\n",
            "Fetching repos for user: Tlazypanda\n",
            "Fetching repos for user: amitavroy\n",
            "Fetching repos for user: urmilshroff\n",
            "Fetching repos for user: ARYANK-08\n",
            "Fetching repos for user: Sankalp679\n",
            "Fetching repos for user: mukyasa\n",
            "Fetching repos for user: devdatta95\n",
            "Fetching repos for user: Prathamesh61\n",
            "Fetching repos for user: netchampfaris\n",
            "Fetching repos for user: M-Piyush-21\n",
            "Fetching repos for user: viveky259259\n",
            "Fetching repos for user: dishantzaveri\n",
            "Fetching repos for user: mehfoozkhangithub\n",
            "Fetching repos for user: sonuprasad66\n",
            "Fetching repos for user: rominirani\n",
            "Fetching repos for user: swapniljariwala\n",
            "Fetching repos for user: raun1997\n",
            "Fetching repos for user: rohanverma94\n",
            "Fetching repos for user: vinod1988\n",
            "Fetching repos for user: H-unique245\n",
            "Fetching repos for user: nihal111\n",
            "Fetching repos for user: MoinDalvs\n",
            "Fetching repos for user: khansaad1275\n",
            "Fetching repos for user: smahesh29\n",
            "Fetching repos for user: sonam-niit\n",
            "Fetching repos for user: ehtesham-alam\n",
            "Fetching repos for user: sovoid\n",
            "Fetching repos for user: Gaurang5704\n",
            "Fetching repos for user: Ruchip16\n",
            "Fetching repos for user: Mandal-21\n",
            "Fetching repos for user: prakashjayy\n",
            "Fetching repos for user: Ansheel9\n",
            "Fetching repos for user: robinrodricks\n",
            "Fetching repos for user: zoneAnaS\n",
            "Fetching repos for user: sandeepnailwal\n",
            "Fetching repos for user: Aman-Mandal\n",
            "Fetching repos for user: Singh-Shivani\n",
            "Fetching repos for user: ullaskunder3\n",
            "Fetching repos for user: surajshetty3416\n",
            "Fetching repos for user: moinkhan07\n",
            "Fetching repos for user: ajitbohra\n",
            "Fetching repos for user: DevanshD3\n",
            "Fetching repos for user: bhav1kmaru\n",
            "Fetching repos for user: chiragjn\n",
            "Fetching repos for user: rajeshpillai\n",
            "Fetching repos for user: RohitDhatrak\n",
            "Fetching repos for user: umairsy\n",
            "Fetching repos for user: Sudarshan2530\n",
            "Fetching repos for user: anxkhn\n",
            "Fetching repos for user: aman0456\n",
            "Fetching repos for user: TheSuranaverse\n",
            "Fetching repos for user: Shivajij\n",
            "Fetching repos for user: Arya-A-Nair\n",
            "Fetching repos for user: mindninjaX\n",
            "Fetching repos for user: abhishek305\n",
            "Fetching repos for user: pri1311\n",
            "Fetching repos for user: AvaisP\n",
            "Fetching repos for user: hotstar\n",
            "Fetching repos for user: scmmishra\n",
            "Fetching repos for user: nurdtechie98\n",
            "Fetching repos for user: mukundjha1310\n",
            "Fetching repos for user: pal-16\n",
            "Fetching repos for user: Jaynil1611\n",
            "Fetching repos for user: tusharmath\n",
            "Fetching repos for user: susmitpy\n",
            "Fetching repos for user: SirusCodes\n",
            "Fetching repos for user: arihant-jain-09\n",
            "Fetching repos for user: dheerajdlalwani\n",
            "Fetching repos for user: TechnitiumSoftware\n",
            "Fetching repos for user: kannansingaravelu\n",
            "Fetching repos for user: AliabbasMerchant\n",
            "Fetching repos for user: mohd14shoeb\n",
            "Fetching repos for user: gat786\n",
            "Fetching repos for user: MayureshShilotri\n",
            "Fetching repos for user: Saif-sk5417\n",
            "Fetching repos for user: tayyabsayyad\n",
            "Fetching repos for user: Maalikq\n",
            "Fetching repos for user: girishgr8\n",
            "Fetching repos for user: hritik5102\n",
            "Fetching repos for user: khushboogupta13\n",
            "Fetching repos for user: husainhakim\n",
            "Fetching repos for user: falcaozane\n",
            "Fetching repos for user: twilight-warlock\n",
            "Fetching repos for user: aaditmshah\n",
            "Fetching repos for user: neha-hue\n",
            "Fetching repos for user: abhishekmishragithub\n",
            "Fetching repos for user: codewithzosh\n",
            "Fetching repos for user: SauravKanchan\n",
            "Fetching repos for user: ankitaa19\n",
            "Fetching repos for user: mahendra-shinde\n",
            "Fetching repos for user: shoaibbhimani\n",
            "Fetching repos for user: NSTiwari\n",
            "Fetching repos for user: Aakash928\n",
            "Fetching repos for user: rakeshpai\n",
            "Fetching repos for user: yash0530\n",
            "Fetching repos for user: v1k45\n",
            "Fetching repos for user: shabh2412\n",
            "Fetching repos for user: rishabhpoddar\n",
            "Fetching repos for user: Pankaj-Str\n",
            "Fetching repos for user: aawezk786\n",
            "Fetching repos for user: rajatgupta1998\n",
            "Fetching repos for user: know-prashant\n",
            "Fetching repos for user: djokester\n",
            "Fetching repos for user: Sachin-chaurasiya\n",
            "Fetching repos for user: wncc\n",
            "Fetching repos for user: hlamba28\n",
            "Fetching repos for user: Pargat-Dhanjal\n",
            "Fetching repos for user: vishal-android-freak\n",
            "Fetching repos for user: devarshishimpi\n",
            "Fetching repos for user: parthpanchal123\n",
            "Fetching repos for user: tanishk15sharma\n",
            "Fetching repos for user: Aatmaj-Zephyr\n",
            "Fetching repos for user: Sarahkhan20\n",
            "Fetching repos for user: prerana1821\n",
            "Fetching repos for user: TanyaChutani\n",
            "Fetching repos for user: Kiranwaghmare123\n",
            "Fetching repos for user: AmaanC\n",
            "Fetching repos for user: vaulstein\n",
            "Fetching repos for user: medadeshreyas\n",
            "Fetching repos for user: DeltaCoderr\n",
            "Fetching repos for user: sounishnath003\n",
            "Fetching repos for user: nachiketbhuta\n",
            "Fetching repos for user: SnehPandya18\n",
            "Fetching repos for user: ankit2341\n",
            "Fetching repos for user: kole-swapnil\n",
            "Fetching repos for user: khrj\n",
            "Fetching repos for user: L4570N3\n",
            "Fetching repos for user: tezansahu\n",
            "Fetching repos for user: karntrehan\n",
            "Fetching repos for user: anirudhjayaraman\n",
            "Fetching repos for user: priyankapakhale\n",
            "Fetching repos for user: mrsanjuk\n",
            "Fetching repos for user: prabhuomkar\n",
            "Fetching repos for user: MukulKolpe\n",
            "Fetching repos for user: PainKiller3\n",
            "Fetching repos for user: aishwaryanevrekar\n",
            "Fetching repos for user: kkothari2001\n",
            "Fetching repos for user: codingCoffee\n",
            "Fetching repos for user: prafulla-codes\n",
            "Fetching repos for user: IamSanjayGupta\n",
            "Fetching repos for user: rohansx\n",
            "Fetching repos for user: PrathmeshSadake\n",
            "Fetching repos for user: shushrutsharma\n",
            "Fetching repos for user: pandeyanuradha\n",
            "Fetching repos for user: vinaynpp\n",
            "Fetching repos for user: I-am-Sagar\n",
            "Fetching repos for user: Hisam-94\n",
            "Fetching repos for user: FOSSEE\n",
            "Fetching repos for user: rishabh1S\n",
            "Fetching repos for user: pratos\n",
            "Fetching repos for user: AlfiyaSiddique\n",
            "Fetching repos for user: deepeshgarg007\n",
            "Fetching repos for user: dominicpereira92\n",
            "Fetching repos for user: hrithikwins\n",
            "Fetching repos for user: sengupta\n",
            "Fetching repos for user: abhishekluv\n",
            "Fetching repos for user: vaibhavgeek\n",
            "Fetching repos for user: bhism\n",
            "Fetching repos for user: sumanentc\n",
            "Fetching repos for user: JadenFurtado\n",
            "Fetching repos for user: dream11\n",
            "Fetching repos for user: kasem-sm\n",
            "Fetching repos for user: kaushikb11\n",
            "Fetching repos for user: learnNcode\n",
            "Fetching repos for user: Yh010\n",
            "Fetching repos for user: yuvraj24\n",
            "Fetching repos for user: utsavk28\n",
            "Fetching repos for user: zaidmukaddam\n",
            "Fetching repos for user: anamansari062\n",
            "Fetching repos for user: FreeBirdsCrew\n",
            "Fetching repos for user: computingfreak\n",
            "Fetching repos for user: basic-coder\n",
            "Fetching repos for user: ur0\n",
            "Fetching repos for user: VitthalGund\n",
            "Fetching repos for user: anshrathod\n",
            "Fetching repos for user: WadhwaniAI\n",
            "Fetching repos for user: pateljannat\n",
            "Fetching repos for user: meetmangukiya\n",
            "Fetching repos for user: KritiThakrar\n",
            "Fetching repos for user: gopala-kr\n",
            "Fetching repos for user: arnab-datta\n",
            "Fetching repos for user: fehmida99\n",
            "Fetching repos for user: Jatin-8898\n",
            "Fetching repos for user: RohitDSawant\n",
            "Fetching repos for user: KartikSoneji\n",
            "Fetching repos for user: jamesmt-95\n",
            "Fetching repos for user: orvil1026\n",
            "Fetching repos for user: sand000\n",
            "Fetching repos for user: hardikbansal\n",
            "Fetching repos for user: RajGhugare19\n",
            "Fetching repos for user: raveenakale475\n",
            "Fetching repos for user: Rahul5303\n",
            "Fetching repos for user: jhasuraj01\n",
            "Fetching repos for user: siddikgitt\n",
            "Fetching repos for user: nishit130\n",
            "Fetching repos for user: Gaurav-Punjabi\n",
            "Fetching repos for user: Rohit-M-Roy\n",
            "Fetching repos for user: shivani0986\n",
            "Fetching repos for user: AnkurGel\n",
            "Fetching repos for user: WilfredAlmeida\n",
            "Fetching repos for user: nextchamp-saqib\n",
            "Fetching repos for user: exaby73\n",
            "Fetching repos for user: suvadityamuk\n",
            "Fetching repos for user: anushka-2001\n",
            "Fetching repos for user: gitesh8\n",
            "Fetching repos for user: jhamadhav\n",
            "Fetching repos for user: aakashratha1006\n",
            "Fetching repos for user: 0xRoneet\n",
            "Fetching repos for user: siddharthrajaraja\n",
            "Fetching repos for user: srajangarg\n",
            "Fetching repos for user: Neel-Shah-29\n",
            "Fetching repos for user: touhidshaikh\n",
            "Fetching repos for user: PrerakGada\n",
            "Fetching repos for user: owaisshassan\n",
            "Fetching repos for user: simplysabir\n",
            "Fetching repos for user: ombhilare999\n",
            "Fetching repos for user: thecybertix\n",
            "Fetching repos for user: jahnvisikligar\n",
            "Fetching repos for user: SikandarJODD\n",
            "Fetching repos for user: aakriti-sharma\n",
            "Fetching repos for user: ryanjon2040\n",
            "Fetching repos for user: Saif807380\n",
            "Fetching repos for user: uzairansari11\n",
            "Fetching repos for user: shiblisec\n",
            "Fetching repos for user: shubhamrasam\n",
            "Fetching repos for user: hrishi84\n",
            "Fetching repos for user: fayeed\n",
            "Fetching repos for user: shahshubh\n",
            "Fetching repos for user: slmsshk\n",
            "Fetching repos for user: Abhijeetrkushwaha\n",
            "Fetching repos for user: himanshu-03\n",
            "Fetching repos for user: Syn3rman\n",
            "Fetching repos for user: ayushhharyann007\n",
            "Fetching repos for user: rubyruins\n",
            "Fetching repos for user: pk-218\n",
            "Fetching repos for user: kambleaa007\n",
            "Fetching repos for user: nitinhayaran\n",
            "Fetching repos for user: vazzup\n",
            "Fetching repos for user: abhishekyadav001\n",
            "Fetching repos for user: dipeshpatil\n",
            "Fetching repos for user: SarveshLimaye\n",
            "Fetching repos for user: Candida18\n",
            "Fetching repos for user: rohan28107\n",
            "Fetching repos for user: Reefaq\n",
            "Fetching repos for user: error404-sp\n",
            "Fetching repos for user: Abhimishra2424\n",
            "Fetching repos for user: romabulani\n",
            "Fetching repos for user: GaneshSrambikal\n",
            "Fetching repos for user: bymayanksingh\n",
            "Fetching repos for user: soumendra\n",
            "Fetching repos for user: mahanvyakti\n",
            "Fetching repos for user: MIDHUNTA30\n",
            "Fetching repos for user: hritik2002\n",
            "Fetching repos for user: adityahase\n",
            "Fetching repos for user: therealharpaljadeja\n",
            "Fetching repos for user: meshtag\n",
            "Fetching repos for user: Vivek-Nemade\n",
            "Fetching repos for user: Bharvi-Sampat\n",
            "Fetching repos for user: sumit6675\n",
            "Fetching repos for user: shaikhsajid1111\n",
            "Fetching repos for user: rahil471\n",
            "Fetching repos for user: tanS30\n",
            "Fetching repos for user: simranjeet97\n",
            "Fetching repos for user: vlakhani28\n",
            "Fetching repos for user: hridayK\n",
            "Fetching repos for user: amitsingh0002\n",
            "Fetching repos for user: akshatshah21\n",
            "Fetching repos for user: Neerav-Khatri\n",
            "Fetching repos for user: sunnypatel165\n",
            "Fetching repos for user: Dinesh2510\n",
            "Fetching repos for user: sahilpabale\n",
            "Fetching repos for user: eaglewarrior\n",
            "Fetching repos for user: devanshj\n",
            "Fetching repos for user: prikeshsavla\n",
            "Fetching repos for user: Dev-faiz\n",
            "Fetching repos for user: rohanchikorde\n",
            "Fetching repos for user: vishalgaddam873\n",
            "Fetching repos for user: VikeshHinge\n",
            "Fetching repos for user: shubhambhole99\n",
            "Fetching repos for user: aryan-parmar\n",
            "Fetching repos for user: anaskhan28\n",
            "Fetching repos for user: techcsispit\n",
            "Fetching repos for user: YelveTejas\n",
            "Fetching repos for user: amite\n",
            "Fetching repos for user: Zeo-shark\n",
            "Fetching repos for user: Sheldon-CodeIt\n",
            "Fetching repos for user: sirtaj786\n",
            "Fetching repos for user: ashish2\n",
            "Fetching repos for user: Hamdrive\n",
            "Fetching repos for user: ankit25821\n",
            "Fetching repos for user: SagarGaniga\n",
            "Fetching repos for user: heytulsiprasad\n",
            "Fetching repos for user: indranildchandra\n",
            "Fetching repos for user: EshikaShah\n",
            "Fetching repos for user: nehakadam\n",
            "Fetching repos for user: GauravSahani1417\n",
            "Fetching repos for user: prateekmaj21\n",
            "Fetching repos for user: Om-jannu\n",
            "Fetching repos for user: Vikr-182\n",
            "Fetching repos for user: jitendra3109\n",
            "Fetching repos for user: panditakshay402\n",
            "Fetching repos for user: chait04\n",
            "Fetching repos for user: RajneeshSingh007\n",
            "Fetching repos for user: theIYD\n",
            "Fetching repos for user: vivek12345\n",
            "Fetching repos for user: sarveshchavan7\n",
            "Fetching repos for user: rajrajhans\n",
            "Fetching repos for user: Shashvat6264\n",
            "Fetching repos for user: Piyush-Keshri\n",
            "Fetching repos for user: sunchushivaaa\n",
            "Fetching repos for user: mizanxali\n",
            "Fetching repos for user: rakeshrakeshyadav\n",
            "Fetching repos for user: mayuur\n",
            "Fetching repos for user: alkhalidsardar\n",
            "Fetching repos for user: nikhil-RGB\n",
            "Fetching repos for user: thouseef-hamza\n",
            "Fetching repos for user: Altafalam3\n",
            "Fetching repos for user: shaikhanas237\n",
            "Fetching repos for user: Sandeepyadav14\n",
            "Fetching repos for user: QuantInsti\n",
            "Fetching repos for user: jwalapc\n",
            "Fetching repos for user: manju145\n",
            "Fetching repos for user: tanmay-pro\n",
            "Fetching repos for user: 1407arjun\n",
            "Fetching repos for user: shaileshwebdeveloper\n",
            "Fetching repos for user: zoe-abedi\n",
            "Fetching repos for user: Chitrank-Dixit\n",
            "Fetching repos for user: balvinderz\n",
            "Fetching repos for user: d33vanshu\n",
            "Fetching repos for user: PremBharwani\n",
            "Fetching repos for user: RajeshPatkar\n",
            "Fetching repos for user: Pradyumancoder\n",
            "Fetching repos for user: neilLasrado\n",
            "Fetching repos for user: Zivi09\n",
            "Fetching repos for user: kalpitagavas\n",
            "Fetching repos for user: Omchand27\n",
            "Fetching repos for user: PriyaSarkarIITB\n",
            "Fetching repos for user: ayush-tiwari57\n",
            "Fetching repos for user: Mohd-Ali2\n",
            "Fetching repos for user: murtaza98\n",
            "Fetching repos for user: yash-chad\n",
            "Fetching repos for user: ShreyasZare\n",
            "Fetching repos for user: tarantulass\n",
            "Fetching repos for user: shariquerik\n",
            "Fetching repos for user: DetainedDeveloper\n",
            "Fetching repos for user: someshfengde\n",
            "Fetching repos for user: vijayjoshi16\n",
            "Fetching repos for user: subhamagrawal7\n",
            "Fetching repos for user: dineshtamang14\n",
            "Fetching repos for user: PoojaRathod5\n",
            "Fetching repos for user: megh-bari\n",
            "Fetching repos for user: SRA-VJTI\n",
            "Fetching repos for user: Jash-Shah\n",
            "Fetching repos for user: RATTLESNAKE-VIPER\n",
            "Fetching repos for user: EshanTrivedi21\n",
            "Fetching repos for user: darshanc99\n",
            "Fetching repos for user: DataRaj\n",
            "Fetching repos for user: pulkitsharma07\n",
            "Fetching repos for user: arbazkhan971\n",
            "Fetching repos for user: someshkoli\n",
            "Fetching repos for user: pritishmishra703\n",
            "Fetching repos for user: gulam160\n",
            "Fetching repos for user: introwit\n",
            "Fetching repos for user: AnmolSahota\n",
            "Fetching repos for user: ShashankGupta10\n",
            "Fetching repos for user: pankajparashar-zz\n",
            "Fetching repos for user: RusherRG\n",
            "Fetching repos for user: kLinus\n",
            "Fetching repos for user: mohitmun\n",
            "Fetching repos for user: Zanark\n",
            "Fetching repos for user: psndna88\n",
            "Fetching repos for user: sarvesh2902\n",
            "Fetching repos for user: mavrick08\n",
            "Fetching repos for user: abunickabhi\n",
            "Fetching repos for user: Shibshankar01\n",
            "Fetching repos for user: gavandivya\n",
            "Fetching repos for user: ananikets18\n",
            "Fetching repos for user: Aveesh52-zz\n",
            "Fetching repos for user: TheComputerM\n",
            "Fetching repos for user: rozodkarbharat\n",
            "Fetching repos for user: adityaguptai\n",
            "Fetching repos for user: dcs1997\n",
            "Fetching repos for user: karan28598\n",
            "Fetching repos for user: hannansatopay\n",
            "Fetching repos for user: sakship31\n",
            "Fetching repos for user: sandeepshetty\n",
            "Fetching repos for user: sandiprb\n",
            "Fetching repos for user: Pratham82\n",
            "Fetching repos for user: resyfer\n",
            "Fetching repos for user: RawSanj\n",
            "Fetching repos for user: Jasmin2895\n",
            "Fetching repos for user: aryanveturekar\n",
            "Fetching repos for user: aryan1113\n",
            "Fetching repos for user: milanpanchal\n",
            "Fetching repos for user: technoweirds\n",
            "Fetching repos for user: KJSCE-SVU\n",
            "Fetching repos for user: uniyalabhishek\n",
            "Fetching repos for user: sharur7\n",
            "Fetching repos for user: Thakur-Govind\n",
            "Fetching repos for user: psankhe28\n",
            "Fetching repos for user: Divyanshu-Modi\n",
            "Fetching repos for user: kumarmj\n",
            "Fetching repos for user: vikassuresh4397\n",
            "Fetching repos for user: TSMaitry\n",
            "Fetching repos for user: Jay4Codes\n",
            "Fetching repos for user: haydencordeiro\n",
            "Fetching repos for user: srikantpatnaik\n",
            "Fetching repos for user: dsrao711\n",
            "Fetching repos for user: ArjoshwaDmello\n",
            "Fetching repos for user: CommunityOfCoders\n",
            "Fetching repos for user: Zeel2163\n",
            "Fetching repos for user: Vishesh-Pandey\n",
            "Fetching repos for user: prashants\n",
            "Fetching repos for user: OmkarPh\n",
            "Fetching repos for user: kevinnadar22\n",
            "Fetching repos for user: Mukesh-Sharma400\n",
            "Fetching repos for user: geeekgod\n",
            "Fetching repos for user: Aali34362\n",
            "Fetching repos for user: vabhishek-me\n",
            "Fetching repos for user: gunjan1909\n",
            "Fetching repos for user: Deepa-chaurasiya01\n",
            "Fetching repos for user: RugvedB\n",
            "Fetching repos for user: nisha270\n",
            "Fetching repos for user: Geletinousamigo\n",
            "Fetching repos for user: prajapatidheeraj1999\n",
            "Fetching repos for user: YourTechBud\n",
            "Fetching repos for user: yashbhangale\n",
            "Fetching repos for user: whoisaditya\n",
            "Fetching repos for user: IamLucif3r\n",
            "Fetching repos for user: rahulyadav826870\n",
            "Fetching repos for user: amrendrakind\n",
            "Fetching repos for user: meetalik8\n",
            "Fetching repos for user: NitkarshChourasia\n",
            "Fetching repos for user: follow2vivek\n",
            "Fetching repos for user: Alkaison\n",
            "Fetching repos for user: smitsekhadiaa\n",
            "Fetching repos for user: jay-2000\n",
            "Fetching repos for user: gauravkulkarni96\n",
            "Fetching repos for user: manasRK\n",
            "Fetching repos for user: ajduke\n",
            "Fetching repos for user: soham2710\n",
            "Fetching repos for user: shantanuo\n",
            "Fetching repos for user: Jatin7385\n",
            "Fetching repos for user: KaustubhDamania\n",
            "Fetching repos for user: quantumcoder121\n",
            "Fetching repos for user: chtnnh\n",
            "Fetching repos for user: ShankyTiwari\n",
            "Fetching repos for user: dutiyesh\n",
            "Fetching repos for user: ArionMiles\n",
            "Fetching repos for user: rohanmathur91\n",
            "Fetching repos for user: Rishabh672003\n",
            "Fetching repos for user: Aamir-Ansari-almost\n",
            "Fetching repos for user: Ananyapam7\n",
            "Fetching repos for user: chirag64\n",
            "Fetching repos for user: SanjaySargam\n",
            "Fetching repos for user: aakashjhawar\n",
            "Fetching repos for user: JapneetRajput\n",
            "Fetching repos for user: BHAGATBHAGYASHREE\n",
            "Fetching repos for user: lem0n4id\n",
            "Fetching repos for user: narender-rk10\n",
            "Fetching repos for user: SUJALGPM\n",
            "Fetching repos for user: Malik04121\n",
            "Fetching repos for user: nimish1001\n",
            "Fetching repos for user: saurabhshahane4\n",
            "Fetching repos for user: dev-akhilesh\n",
            "Fetching repos for user: rohankokkula\n",
            "Fetching repos for user: Spyy004\n",
            "Fetching repos for user: Reuben27\n",
            "Fetching repos for user: cybot-des\n",
            "Fetching repos for user: ayush1999\n",
            "Fetching repos for user: tambegaurav\n",
            "Fetching repos for user: dwij2812\n",
            "Fetching repos for user: archanpatkar\n",
            "Fetching repos for user: RajSharma877\n",
            "Fetching repos for user: starlight5234\n",
            "Fetching repos for user: aayushisah\n",
            "Fetching repos for user: OjasKarmarkar\n",
            "Fetching repos for user: aayushah711\n",
            "Fetching repos for user: bedantH\n",
            "Fetching repos for user: subhipandey\n",
            "Fetching repos for user: iamsuyashh\n",
            "Fetching repos for user: ShyrenMore\n",
            "Fetching repos for user: souvik131\n",
            "Fetching repos for user: neophyt3\n",
            "Fetching repos for user: nilesh-patil\n",
            "Fetching repos for user: mygoal-javadeveloper\n",
            "Fetching repos for user: SaketThota\n",
            "Fetching repos for user: Harshvartak\n",
            "Fetching repos for user: Coollaitar\n",
            "Fetching repos for user: chankeypathak\n",
            "Fetching repos for user: masterchief164\n",
            "Fetching repos for user: Dare-marvel\n",
            "Fetching repos for user: ninadnaik10\n",
            "Fetching repos for user: Jetsoanalin\n",
            "Fetching repos for user: mronian\n",
            "Fetching repos for user: kalindkaria\n",
            "Fetching repos for user: 9vishwashah\n",
            "Fetching repos for user: JayeshThakare98\n",
            "Fetching repos for user: Mithil467\n",
            "Fetching repos for user: taabishk\n",
            "Fetching repos for user: khurramrizvi\n",
            "Fetching repos for user: yashtailor\n",
            "Fetching repos for user: Digital21\n",
            "Fetching repos for user: sanket-kumbhare\n",
            "Fetching repos for user: akasranjan005\n",
            "Fetching repos for user: rojaAchary\n",
            "Fetching repos for user: Suryansh777777\n",
            "Fetching repos for user: AryanShinde\n",
            "Fetching repos for user: jainakshansh\n",
            "Fetching repos for user: ajitjha393\n",
            "Fetching repos for user: RikamPalkar\n",
            "Fetching repos for user: jaypatelll1\n",
            "Fetching repos for user: eewsagar\n",
            "Fetching repos for user: whitechashma237\n",
            "Fetching repos for user: fresearchgroup\n",
            "Fetching repos for user: sudonitin\n",
            "Fetching repos for user: alistair0111\n",
            "Fetching repos for user: yash-nisar\n",
            "Fetching repos for user: arpitnath\n",
            "Fetching repos for user: Zaeem20\n",
            "Fetching repos for user: backtrackbaba\n",
            "Fetching repos for user: rahulsingh2312\n",
            "Fetching repos for user: jasmit21\n",
            "Fetching repos for user: ericadsouxa\n",
            "Fetching repos for user: Adarsh-k0802\n",
            "Fetching repos for user: Swap76\n",
            "Fetching repos for user: AdiPat\n",
            "Fetching repos for user: SupreethBaliga\n",
            "Fetching repos for user: KanadeAditya\n",
            "Fetching repos for user: kharatramesh\n",
            "Fetching repos for user: hasnain2808\n",
            "Fetching repos for user: yashtazor\n",
            "Fetching repos for user: codef0rmer\n",
            "Fetching repos for user: ivank\n",
            "Fetching repos for user: KCmean\n",
            "Fetching repos for user: Pramodh-G\n",
            "Fetching repos for user: bevatsal1122\n",
            "Fetching repos for user: GyaneshSamanta\n",
            "Fetching repos for user: ackotech\n",
            "Fetching repos for user: Vishruta-Patil\n",
            "Fetching repos for user: shaggyyy2002\n",
            "Fetching repos for user: kumarsonsoff3\n",
            "Fetching repos for user: deependhulla\n",
            "Fetching repos for user: hayat-tamboli\n",
            "Fetching repos for user: PreetiW\n",
            "Fetching repos for user: devamitjha\n",
            "Fetching repos for user: kj-95\n",
            "Fetching repos for user: utkarshsingh99\n",
            "Fetching repos for user: deepanshu2506\n",
            "Fetching repos for user: ajinkya007\n",
            "Fetching repos for user: staticshreyas\n",
            "Fetching repos for user: Abhiroop25902\n",
            "Fetching repos for user: PrachetShah\n",
            "Fetching repos for user: Sandesh1013\n",
            "Fetching repos for user: Jigsaw-23122002\n",
            "Fetching repos for user: SamsonSeemal\n",
            "Fetching repos for user: algobulls\n",
            "Fetching repos for user: harshchi19\n",
            "Fetching repos for user: Sarthak3003\n",
            "Fetching repos for user: Jaishree2310\n",
            "Fetching repos for user: raju249\n",
            "Fetching repos for user: sairam1411\n",
            "Fetching repos for user: Rakeshistom\n",
            "Fetching repos for user: nischal\n",
            "Fetching repos for user: archeelp\n",
            "Fetching repos for user: devishworld\n",
            "Fetching repos for user: codertech120386\n",
            "Fetching repos for user: vinitsangoi\n",
            "Fetching repos for user: rkkirpane\n",
            "Fetching repos for user: amoghsinkar910\n",
            "Fetching repos for user: sank8dalvi\n",
            "Fetching repos for user: qureai\n",
            "Fetching repos for user: devkakeri06\n",
            "Fetching repos for user: amit-y11\n",
            "Fetching repos for user: NinadRao0707\n",
            "Fetching repos for user: theProgrammerDavid\n",
            "Fetching repos for user: nileshprasad137\n",
            "Fetching repos for user: zubinmehta\n",
            "Fetching repos for user: 5arthak01\n",
            "Fetching repos for user: meghrathod\n",
            "Fetching repos for user: Salonee-Jain\n",
            "Fetching repos for user: pruthvirajp04\n",
            "Fetching repos for user: sahilnare\n",
            "Fetching repos for user: viraj-s15\n",
            "Fetching repos for user: nik9hil\n",
            "Fetching repos for user: Saravana08\n",
            "Fetching repos for user: Ayaz-01\n",
            "Fetching repos for user: horsemaker\n",
            "Fetching repos for user: SamFusedBits\n",
            "Fetching repos for user: ZakiMohammed\n",
            "Fetching repos for user: Inv3nt0r1\n",
            "Fetching repos for user: rohan-mistry\n",
            "Fetching repos for user: abhi0402\n",
            "Fetching repos for user: Aafiya-H\n",
            "Fetching repos for user: vmundra\n",
            "Fetching repos for user: meet-gagan\n",
            "Fetching repos for user: Anuragmaurya-code\n",
            "Fetching repos for user: miteshgoplani\n",
            "Fetching repos for user: AmeyaDaddikar\n",
            "Fetching repos for user: mavericknihar\n",
            "Fetching repos for user: SG-Kolipyaka\n",
            "Fetching repos for user: darshjain\n",
            "Fetching repos for user: ShruAgarwal\n",
            "Fetching repos for user: ulhas\n",
            "Fetching repos for user: a7r3\n",
            "Fetching repos for user: azizhk\n",
            "Fetching repos for user: itsjwala\n",
            "Fetching repos for user: MaheraFurniturewala\n",
            "Fetching repos for user: Piyush-linux\n",
            "Fetching repos for user: ethicalrushi\n",
            "Fetching repos for user: shizothetechie\n",
            "Fetching repos for user: geekvijay\n",
            "Fetching repos for user: AkshatBhat\n",
            "Fetching repos for user: SidJain1412\n",
            "Fetching repos for user: Nachimak28\n",
            "Fetching repos for user: adarshxs\n",
            "Fetching repos for user: harshaldulera\n",
            "Fetching repos for user: chakshu-dhannawat\n",
            "Fetching repos for user: Kingbond470\n",
            "Fetching repos for user: vidyesh95\n",
            "Fetching repos for user: amardaxini\n",
            "Fetching repos for user: patilswapnilv\n",
            "Fetching repos for user: svs\n",
            "Fetching repos for user: koolgax99\n",
            "Fetching repos for user: Zemotacqy\n",
            "Fetching repos for user: Honey14\n",
            "Fetching repos for user: aniketparate\n",
            "Fetching repos for user: Davekibh\n",
            "Fetching repos for user: SiddhiGolatkar\n",
            "Fetching repos for user: yukta12\n",
            "Fetching repos for user: midd-96\n",
            "Fetching repos for user: arpitajadhav9\n",
            "Fetching repos for user: Elysian01\n",
            "Fetching repos for user: vvignesh17\n",
            "Fetching repos for user: SurajLad\n",
            "Fetching repos for user: t007rushi\n",
            "Fetching repos for user: Prachi-Jamdade\n",
            "Fetching repos for user: Sakshi107\n",
            "Fetching repos for user: pujanm\n",
            "Fetching repos for user: jayeshk7\n",
            "Fetching repos for user: RushabhM03\n",
            "Fetching repos for user: AmiMunshi\n",
            "Fetching repos for user: sarthak0714\n",
            "Fetching repos for user: adwait-thattey\n",
            "Fetching repos for user: mohitagrawal22\n",
            "Fetching repos for user: hemant069\n",
            "Fetching repos for user: vjFaLk\n",
            "Fetching repos for user: mufassirkazi\n",
            "Fetching repos for user: mdjawedh022\n",
            "Fetching repos for user: sonusathyadas\n",
            "Fetching repos for user: vidit0210\n",
            "Fetching repos for user: krittikaiitb\n",
            "Repository data fetching complete.\n"
          ]
        }
      ]
    },
    {
      "cell_type": "markdown",
      "source": [
        "# Questions based on the data sets fetched from GitHub API"
      ],
      "metadata": {
        "id": "gpV_dWTUBs7v"
      }
    },
    {
      "cell_type": "markdown",
      "source": [
        "\n",
        "\n",
        "---\n",
        "\n",
        "\n",
        "\n",
        "1.   *Who are the top 5 users in **Mumbai** with the highest number of followers? List their **login** in order, comma-separated.*\n",
        "\n",
        "\n",
        "\n",
        "---\n",
        "\n",
        "\n"
      ],
      "metadata": {
        "id": "ZejUWIjuk4kT"
      }
    },
    {
      "cell_type": "code",
      "source": [
        "# Load users.csv from my Github repository\n",
        "users_url = 'https://raw.githubusercontent.com/22f3001673/TDS-Project1/main/users.csv'\n",
        "users_df = pd.read_csv(users_url)\n"
      ],
      "metadata": {
        "id": "rVjTATE-k_0e"
      },
      "execution_count": 3,
      "outputs": []
    },
    {
      "cell_type": "code",
      "source": [
        "# Sort users by the 'followers' column in descending order and select the top 5\n",
        "top_users = users_df.sort_values(by='followers', ascending=False).head(5)"
      ],
      "metadata": {
        "id": "o-S00jhjlFyd"
      },
      "execution_count": null,
      "outputs": []
    },
    {
      "cell_type": "code",
      "source": [
        "# Get the 'login' column as a comma-separated string\n",
        "top_users_logins = ', '.join(top_users['login'])\n",
        "print(top_users_logins)"
      ],
      "metadata": {
        "colab": {
          "base_uri": "https://localhost:8080/"
        },
        "id": "uqIKDAnKlKzP",
        "outputId": "64a519c0-adaa-47fb-c6b9-a5e6ab231eac"
      },
      "execution_count": null,
      "outputs": [
        {
          "output_type": "stream",
          "name": "stdout",
          "text": [
            "ValentineFernandes, kovidgoyal, slidenerd, aryashah2k, coding-parrot\n"
          ]
        }
      ]
    },
    {
      "cell_type": "markdown",
      "source": [
        "\n",
        "\n",
        "---\n",
        "\n",
        "\n",
        "2.   *Who are the 5 earliest registered GitHub users in **Mumbai**? List their **login** in ascending order of **created_at**, comma-separated.*\n",
        "\n",
        "\n",
        "\n",
        "---\n",
        "\n"
      ],
      "metadata": {
        "id": "Df0rFKXhlasw"
      }
    },
    {
      "cell_type": "code",
      "source": [
        "# Convert the 'created_at' column to datetime format\n",
        "users_df['created_at'] = pd.to_datetime(users_df['created_at'])"
      ],
      "metadata": {
        "id": "hfKzx39MlZyu"
      },
      "execution_count": null,
      "outputs": []
    },
    {
      "cell_type": "code",
      "source": [
        "# Sort users by 'created_at' in ascending order\n",
        "sorted_users = users_df.sort_values(by='created_at', ascending=True)"
      ],
      "metadata": {
        "id": "aAMlP9UTlYAn"
      },
      "execution_count": null,
      "outputs": []
    },
    {
      "cell_type": "code",
      "source": [
        "# Select the top 5 earliest registered users\n",
        "top_5_earliest_users = sorted_users['login'].head(5)"
      ],
      "metadata": {
        "id": "MsMfNfximdEU"
      },
      "execution_count": null,
      "outputs": []
    },
    {
      "cell_type": "code",
      "source": [
        "# Output their logins as a comma-separated string\n",
        "print(','.join(top_5_earliest_users))"
      ],
      "metadata": {
        "colab": {
          "base_uri": "https://localhost:8080/"
        },
        "id": "zMlgCMxumhKS",
        "outputId": "d37fbaab-3159-4f12-e9b9-93047877065f"
      },
      "execution_count": null,
      "outputs": [
        {
          "output_type": "stream",
          "name": "stdout",
          "text": [
            "ivank,sandeepshetty,svs,nitinhayaran,nischal\n"
          ]
        }
      ]
    },
    {
      "cell_type": "markdown",
      "source": [
        "\n",
        "\n",
        "\n",
        "---\n",
        "\n",
        "\n",
        "*3.   What are the 3 most popular license among these users? Ignore missing licenses. List the **license_name** in order, comma-separated.*\n",
        "\n",
        "\n",
        "\n",
        "---\n",
        "\n"
      ],
      "metadata": {
        "id": "ymFsnCWJm6_4"
      }
    },
    {
      "cell_type": "code",
      "source": [
        "# Load repositories.csv from my Github repository\n",
        "repositories_url = 'https://raw.githubusercontent.com/22f3001673/TDS-Project1/main/repositories.csv'\n",
        "repos_df = pd.read_csv(repositories_url)"
      ],
      "metadata": {
        "id": "K0QaUs4om5g-"
      },
      "execution_count": 12,
      "outputs": []
    },
    {
      "cell_type": "code",
      "source": [
        "# Filter out rows where 'license_name' is missing\n",
        "repos_with_license = repos_df[repos_df['license_name'].notna() & (repos_df['license_name'] != '')]"
      ],
      "metadata": {
        "id": "DCz9u_wGnaSN"
      },
      "execution_count": null,
      "outputs": []
    },
    {
      "cell_type": "code",
      "source": [
        "# Count occurrences of each license and select the top 3\n",
        "top_licenses = repos_with_license['license_name'].value_counts().head(3)"
      ],
      "metadata": {
        "id": "Cd7tqLFunan1"
      },
      "execution_count": null,
      "outputs": []
    },
    {
      "cell_type": "code",
      "source": [
        "# Output the license names as a comma-separated string\n",
        "print(','.join(top_licenses.index))"
      ],
      "metadata": {
        "colab": {
          "base_uri": "https://localhost:8080/"
        },
        "id": "b5DF7uk4navL",
        "outputId": "663142f8-bd07-4f6a-e324-5e2c9faad21a"
      },
      "execution_count": null,
      "outputs": [
        {
          "output_type": "stream",
          "name": "stdout",
          "text": [
            "mit,apache-2.0,other\n"
          ]
        }
      ]
    },
    {
      "cell_type": "markdown",
      "source": [
        "\n",
        "\n",
        "\n",
        "\n",
        "---\n",
        "\n",
        "\n",
        "*4.   Which **company** do the majority of these developers work at?*\n",
        "\n",
        "\n",
        "\n",
        "---\n",
        "\n"
      ],
      "metadata": {
        "id": "vITZ2Linou-C"
      }
    },
    {
      "cell_type": "code",
      "source": [
        "most_common_company = users_df['company'].value_counts().idxmax()"
      ],
      "metadata": {
        "id": "L89RJ2OOo9pF"
      },
      "execution_count": null,
      "outputs": []
    },
    {
      "cell_type": "code",
      "source": [
        "# Output the most common company\n",
        "print(most_common_company)"
      ],
      "metadata": {
        "colab": {
          "base_uri": "https://localhost:8080/"
        },
        "id": "mdt915SVpfSS",
        "outputId": "11267c64-9971-4b52-8507-0875e0d44328"
      },
      "execution_count": null,
      "outputs": [
        {
          "output_type": "stream",
          "name": "stdout",
          "text": [
            "MASAI SCHOOL\n"
          ]
        }
      ]
    },
    {
      "cell_type": "markdown",
      "source": [
        "\n",
        "\n",
        "*5.   Which **programming language** is most popular among these users?*\n"
      ],
      "metadata": {
        "id": "ZTwufkAppmME"
      }
    },
    {
      "cell_type": "code",
      "source": [
        "# Filter out rows where 'language' is missing or empty\n",
        "repos_with_language = repos_df[repos_df['language'].notna() & (repos_df['language'] != '')]"
      ],
      "metadata": {
        "id": "fZkI9VRwpw4G"
      },
      "execution_count": null,
      "outputs": []
    },
    {
      "cell_type": "code",
      "source": [
        "# Count occurrences of each language and select the most common one\n",
        "most_popular_language = repos_with_language['language'].value_counts().idxmax()"
      ],
      "metadata": {
        "id": "PuVfn2b7qLkG"
      },
      "execution_count": null,
      "outputs": []
    },
    {
      "cell_type": "code",
      "source": [
        "# Output the most popular language\n",
        "print(most_popular_language)"
      ],
      "metadata": {
        "colab": {
          "base_uri": "https://localhost:8080/"
        },
        "id": "ZYgFX2lDqPoY",
        "outputId": "39e47a96-1f6b-42dd-e472-8077ccb7c282"
      },
      "execution_count": null,
      "outputs": [
        {
          "output_type": "stream",
          "name": "stdout",
          "text": [
            "JavaScript\n"
          ]
        }
      ]
    },
    {
      "cell_type": "markdown",
      "source": [
        "\n",
        "\n",
        "\n",
        "---\n",
        "\n",
        "\n",
        "*6.   Which **programming language** is the second most popular among users who joined after 2020?*\n",
        "\n",
        "\n",
        "---\n",
        "\n",
        "\n"
      ],
      "metadata": {
        "id": "iHDX-QoqqX0A"
      }
    },
    {
      "cell_type": "code",
      "source": [
        "# Convert 'created_at' to datetime\n",
        "users_df['created_at'] = pd.to_datetime(users_df['created_at'])"
      ],
      "metadata": {
        "id": "zf42-lqUquMV"
      },
      "execution_count": null,
      "outputs": []
    },
    {
      "cell_type": "code",
      "source": [
        "# Filter for users who joined after 2020\n",
        "users_after_2020 = users_df[users_df['created_at'].dt.year > 2020]"
      ],
      "metadata": {
        "id": "5Fni9psjquRF"
      },
      "execution_count": null,
      "outputs": []
    },
    {
      "cell_type": "code",
      "source": [
        "# Load the repositories.csv file\n",
        "repos_df = pd.read_csv('repositories.csv')"
      ],
      "metadata": {
        "id": "4LOo-cbIquYF"
      },
      "execution_count": null,
      "outputs": []
    },
    {
      "cell_type": "code",
      "source": [
        "# Filter repositories to include only those owned by users who joined after 2020\n",
        "filtered_repos = repos_df[repos_df['login'].isin(users_after_2020['login'])]"
      ],
      "metadata": {
        "id": "UC_r3LYLrA8J"
      },
      "execution_count": null,
      "outputs": []
    },
    {
      "cell_type": "code",
      "source": [
        "# Filter out rows where 'language' is missing or empty\n",
        "repos_with_language = filtered_repos[filtered_repos['language'].notna() & (filtered_repos['language'] != '')]"
      ],
      "metadata": {
        "id": "4GPJmxohqumu"
      },
      "execution_count": null,
      "outputs": []
    },
    {
      "cell_type": "code",
      "source": [
        "# Count occurrences of each language\n",
        "language_counts = repos_with_language['language'].value_counts()"
      ],
      "metadata": {
        "id": "WPrfvCQsrHxa"
      },
      "execution_count": null,
      "outputs": []
    },
    {
      "cell_type": "code",
      "source": [
        "# Get the second most popular language\n",
        "second_most_popular_language = language_counts.index[1] if len(language_counts) > 1 else None"
      ],
      "metadata": {
        "id": "3P-c_A4irH5i"
      },
      "execution_count": null,
      "outputs": []
    },
    {
      "cell_type": "code",
      "source": [
        "# Output the second most popular language\n",
        "print(second_most_popular_language)"
      ],
      "metadata": {
        "colab": {
          "base_uri": "https://localhost:8080/"
        },
        "id": "KEDritzNrRoR",
        "outputId": "f27032e9-9ede-43d4-8573-8db89fdc8b9f"
      },
      "execution_count": null,
      "outputs": [
        {
          "output_type": "stream",
          "name": "stdout",
          "text": [
            "HTML\n"
          ]
        }
      ]
    },
    {
      "cell_type": "markdown",
      "source": [
        "\n",
        "\n",
        "\n",
        "---\n",
        "\n",
        "\n",
        "*7.   Which **languag**e has the highest average number of stars per repository?*\n",
        "\n",
        "\n",
        "---\n",
        "\n"
      ],
      "metadata": {
        "id": "6ARK_A1Crb0_"
      }
    },
    {
      "cell_type": "code",
      "source": [
        "# Filter out rows where 'language' is missing or empty\n",
        "repos_with_language = repos_df[repos_df['language'].notna() & (repos_df['language'] != '')]"
      ],
      "metadata": {
        "id": "vNe6EpqGriCj"
      },
      "execution_count": null,
      "outputs": []
    },
    {
      "cell_type": "code",
      "source": [
        "# Group by 'language' and calculate the average 'stargazers_count' for each language\n",
        "average_stars_per_language = repos_with_language.groupby('language')['stargazers_count'].mean()"
      ],
      "metadata": {
        "id": "IrqLjiwxriFc"
      },
      "execution_count": null,
      "outputs": []
    },
    {
      "cell_type": "code",
      "source": [
        "# Find the language with the highest average number of stars\n",
        "language_with_highest_avg_stars = average_stars_per_language.idxmax()\n",
        "highest_avg_stars = average_stars_per_language.max()"
      ],
      "metadata": {
        "id": "m_r43URSriJE"
      },
      "execution_count": null,
      "outputs": []
    },
    {
      "cell_type": "code",
      "source": [
        "# Output the language with the highest average stars and the average star count\n",
        "print(f\"{language_with_highest_avg_stars} has the highest average stars per repository: {highest_avg_stars}\")"
      ],
      "metadata": {
        "colab": {
          "base_uri": "https://localhost:8080/"
        },
        "id": "omoLHc3fr93I",
        "outputId": "2e15094f-c0c2-4dbe-c1d7-a59f879df318"
      },
      "execution_count": null,
      "outputs": [
        {
          "output_type": "stream",
          "name": "stdout",
          "text": [
            "TSQL has the highest average stars per repository: 571.0\n"
          ]
        }
      ]
    },
    {
      "cell_type": "markdown",
      "source": [
        "\n",
        "\n",
        "\n",
        "---\n",
        "\n",
        "\n",
        "*8.   Let's define **leader_strength** as **followers / (1 + following)**. Who are the top 5 in terms of **leader_strength**? List their **login** in order, comma-separated.*\n",
        "\n",
        "\n",
        "\n",
        "---\n",
        "\n"
      ],
      "metadata": {
        "id": "7q2KjQhvsT-A"
      }
    },
    {
      "cell_type": "code",
      "source": [
        "# Calculate leader_strength\n",
        "users_df['leader_strength'] = users_df['followers'] / (1 + users_df['following'])"
      ],
      "metadata": {
        "id": "EEgJCwaQse2q"
      },
      "execution_count": null,
      "outputs": []
    },
    {
      "cell_type": "code",
      "source": [
        "# Sort by leader_strength in descending order and get the top 5 logins\n",
        "top_5_leaders = users_df.sort_values(by='leader_strength', ascending=False).head(5)['login'].tolist()"
      ],
      "metadata": {
        "id": "jzUSZNQTse6A"
      },
      "execution_count": null,
      "outputs": []
    },
    {
      "cell_type": "code",
      "source": [
        "# Output the top 5 logins as a comma-separated string\n",
        "print(\", \".join(top_5_leaders))"
      ],
      "metadata": {
        "colab": {
          "base_uri": "https://localhost:8080/"
        },
        "id": "_sBH3MTgse9H",
        "outputId": "e29ae0c4-da92-4a24-8d69-f2ddbd1f518e"
      },
      "execution_count": null,
      "outputs": [
        {
          "output_type": "stream",
          "name": "stdout",
          "text": [
            "kovidgoyal, coding-parrot, gkcs, slidenerd, dmalvia\n"
          ]
        }
      ]
    },
    {
      "cell_type": "markdown",
      "source": [
        "\n",
        "\n",
        "\n",
        "---\n",
        "\n",
        "\n",
        "\n",
        "*9.   What is the **correlation** between the number of followers and the number of public repositories among users in **Mumbai**?*\n",
        "\n",
        "\n",
        "\n",
        "---\n",
        "\n"
      ],
      "metadata": {
        "id": "Np1CLjIh8VYA"
      }
    },
    {
      "cell_type": "code",
      "source": [
        "correlation = users_df['followers'].corr(users_df['public_repos'])\n",
        "# Output the correlation rounded to 3 decimal places\n",
        "print(f\"Correlation between no. of followers and public repositories: {correlation:.3f}\")"
      ],
      "metadata": {
        "colab": {
          "base_uri": "https://localhost:8080/"
        },
        "id": "rBpyI83F8kvU",
        "outputId": "c656e3ab-c235-4bd9-a84c-0923c510c9f2"
      },
      "execution_count": null,
      "outputs": [
        {
          "output_type": "stream",
          "name": "stdout",
          "text": [
            "Correlation between no. of followers and public repositories: 0.034\n"
          ]
        }
      ]
    },
    {
      "cell_type": "markdown",
      "source": [
        "\n",
        "\n",
        "\n",
        "---\n",
        "\n",
        "\n",
        "*10.   Does creating more repos help users get more followers? Using regression, estimate how many additional followers a user gets per additional public repository.*\n",
        "\n",
        "\n",
        "---\n",
        "\n"
      ],
      "metadata": {
        "id": "ulVqgzm2--78"
      }
    },
    {
      "cell_type": "code",
      "source": [
        "import statsmodels.api as sm"
      ],
      "metadata": {
        "id": "soCiXR1-_Iid"
      },
      "execution_count": null,
      "outputs": []
    },
    {
      "cell_type": "code",
      "source": [
        "# Define predictor and response variables\n",
        "X = users_df['public_repos']\n",
        "y = users_df['followers']"
      ],
      "metadata": {
        "id": "a1pMV02iD8lK"
      },
      "execution_count": null,
      "outputs": []
    },
    {
      "cell_type": "code",
      "source": [
        "# Add a constant to the predictor (intercept term)\n",
        "X = sm.add_constant(X)"
      ],
      "metadata": {
        "id": "W3PJDctf0aiP"
      },
      "execution_count": null,
      "outputs": []
    },
    {
      "cell_type": "code",
      "source": [
        "# Fit the regression model\n",
        "model = sm.OLS(y, X).fit()\n"
      ],
      "metadata": {
        "id": "KxfJDI130a00"
      },
      "execution_count": null,
      "outputs": []
    },
    {
      "cell_type": "code",
      "source": [
        "# Get the slope of the regression (coefficient of public_repos)\n",
        "slope = model.params['public_repos']\n",
        "print(f\"Regression slope of followers on repos: {slope:.3f}\")"
      ],
      "metadata": {
        "colab": {
          "base_uri": "https://localhost:8080/"
        },
        "id": "mE1OTubjD8rj",
        "outputId": "408f0dde-2e84-4c1d-8ecc-8bdfce46f91a"
      },
      "execution_count": null,
      "outputs": [
        {
          "output_type": "stream",
          "name": "stdout",
          "text": [
            "Regression slope of followers on repos: 0.100\n"
          ]
        }
      ]
    },
    {
      "cell_type": "markdown",
      "source": [
        "\n",
        "\n",
        "---\n",
        "\n",
        "\n",
        "\n",
        "*11.   Do people typically enable projects and wikis together? What is the correlation between a repo having projects enabled and having wiki enabled?*\n",
        "\n",
        "\n",
        "---\n",
        "\n"
      ],
      "metadata": {
        "id": "AzqdXklrD84l"
      }
    },
    {
      "cell_type": "code",
      "source": [
        "correlation_pro_wiki = repos_df['has_projects'].astype(int).corr(repos_df['has_wiki'].astype(int))\n",
        "# Output the correlation rounded to 3 decimal places\n",
        "print(f\"Correlation between projects and wiki enabled: {correlation_pro_wiki:.3f}\")"
      ],
      "metadata": {
        "colab": {
          "base_uri": "https://localhost:8080/"
        },
        "id": "tQmvMYXMEDwP",
        "outputId": "a434b8da-91c8-4d22-9187-4119bdc877a9"
      },
      "execution_count": 13,
      "outputs": [
        {
          "output_type": "stream",
          "name": "stdout",
          "text": [
            "Correlation between projects and wiki enabled: 0.160\n"
          ]
        }
      ]
    },
    {
      "cell_type": "markdown",
      "source": [
        "\n",
        "\n",
        "\n",
        "---\n",
        "\n",
        "\n",
        "*12.   Do hireable users follow more people than those who are not hireable?*\n",
        "\n",
        "\n",
        "\n",
        "---\n",
        "\n"
      ],
      "metadata": {
        "id": "Y5Uj2nUzRY3U"
      }
    },
    {
      "cell_type": "code",
      "source": [
        "# Replace NaN values in 'hireable' with False and ensure it's a boolean type\n",
        "users_df['hireable'] = users_df['hireable'].fillna(False).astype(bool)"
      ],
      "metadata": {
        "colab": {
          "base_uri": "https://localhost:8080/"
        },
        "id": "QAKo66mfRyX2",
        "outputId": "41f2bcae-4e64-4aca-c165-eb118227a033"
      },
      "execution_count": null,
      "outputs": [
        {
          "output_type": "stream",
          "name": "stderr",
          "text": [
            "<ipython-input-87-3a01ae0099db>:2: FutureWarning: Downcasting object dtype arrays on .fillna, .ffill, .bfill is deprecated and will change in a future version. Call result.infer_objects(copy=False) instead. To opt-in to the future behavior, set `pd.set_option('future.no_silent_downcasting', True)`\n",
            "  users_df['hireable'] = users_df['hireable'].fillna(False).astype(bool)\n"
          ]
        }
      ]
    },
    {
      "cell_type": "code",
      "source": [
        "# Calculate the average 'following' count for hireable and non-hireable users\n",
        "average_following_hireable = users_df[users_df['hireable'] == True]['following'].mean()\n",
        "average_following_not_hireable = users_df[users_df['hireable'] == False]['following'].mean()"
      ],
      "metadata": {
        "id": "35Gm-KnzRCys"
      },
      "execution_count": null,
      "outputs": []
    },
    {
      "cell_type": "code",
      "source": [
        "# Calculate the difference and round to 3 decimal places\n",
        "difference = round(average_following_hireable - average_following_not_hireable, 3)"
      ],
      "metadata": {
        "id": "49l42ZzeRFKO"
      },
      "execution_count": null,
      "outputs": []
    },
    {
      "cell_type": "code",
      "source": [
        "# Output the difference\n",
        "print(f\"Difference in average following (hireable - non-hireable): {difference}\")"
      ],
      "metadata": {
        "colab": {
          "base_uri": "https://localhost:8080/"
        },
        "id": "M_QqWrFsRJDO",
        "outputId": "87742d1d-361d-4a0c-85e3-688b82b3f3ce"
      },
      "execution_count": null,
      "outputs": [
        {
          "output_type": "stream",
          "name": "stdout",
          "text": [
            "Difference in average following (hireable - non-hireable): 8.175\n"
          ]
        }
      ]
    },
    {
      "cell_type": "markdown",
      "source": [
        "\n",
        "\n",
        "---\n",
        "\n",
        "\n",
        "\n",
        "*13.   Some developers write long bios. Does that help them get more followers? What's the correlation of the length of their bio (in Unicode words, split by whitespace) with followers? (Ignore people without bios)*\n",
        "\n",
        "\n",
        "---\n",
        "\n",
        "\n"
      ],
      "metadata": {
        "id": "YVyQt6zrSMVk"
      }
    },
    {
      "cell_type": "code",
      "source": [
        "# Filter users with bios and create a new DataFrame to avoid chained assignment issues\n",
        "users_with_bios = users_df[users_df['bio'].notna() & (users_df['bio'] != '')].copy()"
      ],
      "metadata": {
        "id": "C6s7pQN4SqAZ"
      },
      "execution_count": 15,
      "outputs": []
    },
    {
      "cell_type": "code",
      "source": [
        "# Calculate the length of each bio in Unicode words\n",
        "users_with_bios.loc[:, 'bio_length'] = users_with_bios['bio'].apply(lambda x: len(x.split()))"
      ],
      "metadata": {
        "collapsed": true,
        "id": "cwrfXp2VSv3B"
      },
      "execution_count": 16,
      "outputs": []
    },
    {
      "cell_type": "code",
      "source": [
        "# Calculate the correlation between bio length and followers\n",
        "correlation_bio_followers = users_with_bios['bio_length'].corr(users_with_bios['followers'])"
      ],
      "metadata": {
        "id": "eeu70y9oTBIZ"
      },
      "execution_count": 17,
      "outputs": []
    },
    {
      "cell_type": "code",
      "source": [
        "# Print the correlation rounded to 3 decimal places\n",
        "print(f\"Correlation between bio length and followers: {correlation_bio_followers:.3f}\")"
      ],
      "metadata": {
        "colab": {
          "base_uri": "https://localhost:8080/"
        },
        "collapsed": true,
        "id": "Kjc6w3HLulrN",
        "outputId": "a8d481aa-088e-4193-9158-913bc40ab356"
      },
      "execution_count": 18,
      "outputs": [
        {
          "output_type": "stream",
          "name": "stdout",
          "text": [
            "Correlation between bio length and followers: -0.008\n"
          ]
        }
      ]
    },
    {
      "cell_type": "code",
      "source": [],
      "metadata": {
        "id": "koIqU8VJvhfo"
      },
      "execution_count": null,
      "outputs": []
    },
    {
      "cell_type": "markdown",
      "source": [
        "\n",
        "\n",
        "---\n",
        "\n",
        "\n",
        "\n",
        "*14.   Who created the most repositories on weekends (UTC)? List the top 5 users' login in order, comma-separated*\n",
        "\n",
        "\n",
        "---\n",
        "\n",
        "\n"
      ],
      "metadata": {
        "id": "QI7a7ODNTTe0"
      }
    },
    {
      "cell_type": "code",
      "source": [
        "# Convert 'created_at' to datetime in UTC to avoid time zone issues\n",
        "repos_df['created_at'] = pd.to_datetime(repos_df['created_at'], utc=True)"
      ],
      "metadata": {
        "id": "yHkHMxuNTYMT"
      },
      "execution_count": null,
      "outputs": []
    },
    {
      "cell_type": "code",
      "source": [
        "# Filter for repositories created on weekends (Saturday = 5, Sunday = 6)\n",
        "weekend_repos = repos_df[repos_df['created_at'].dt.weekday.isin([5, 6])]"
      ],
      "metadata": {
        "id": "UeNBVo4ZTYO_"
      },
      "execution_count": null,
      "outputs": []
    },
    {
      "cell_type": "code",
      "source": [
        "# Count repositories created on weekends for each user\n",
        "weekend_repos_count = weekend_repos['login'].value_counts()"
      ],
      "metadata": {
        "id": "R3CzvBtiTYTx"
      },
      "execution_count": null,
      "outputs": []
    },
    {
      "cell_type": "code",
      "source": [
        "# Get the top 5 users by weekend repository count\n",
        "top_5_users = weekend_repos_count.head(5).index.tolist()"
      ],
      "metadata": {
        "id": "fTd3crt4TYXM"
      },
      "execution_count": null,
      "outputs": []
    },
    {
      "cell_type": "code",
      "source": [
        "# Output the top 5 users' logins as a comma-separated string\n",
        "print(','.join(top_5_users))"
      ],
      "metadata": {
        "colab": {
          "base_uri": "https://localhost:8080/"
        },
        "id": "U7NMyYXFTkzc",
        "outputId": "ff381bc8-031f-47ff-fd1c-f99271982439"
      },
      "execution_count": null,
      "outputs": [
        {
          "output_type": "stream",
          "name": "stdout",
          "text": [
            "Kushal334,alokproc,vinod1988,patilswapnilv,rajeshpillai\n"
          ]
        }
      ]
    },
    {
      "cell_type": "markdown",
      "source": [
        "\n",
        "\n",
        "\n",
        "---\n",
        "\n",
        "\n",
        "*15.   Do people who are hireable share their email addresses more often?\n",
        "[fraction of users with email when hireable=true] minus [fraction of users with email for the rest] (to 3 decimal places, e.g. 0.123 or -0.123)*\n",
        "\n",
        "\n",
        "\n",
        "---\n",
        "\n"
      ],
      "metadata": {
        "id": "NYuD_A8KYAaE"
      }
    },
    {
      "cell_type": "code",
      "source": [
        "# Fill missing 'hireable' values with False (assuming NaN means non-hireable)\n",
        "users_df['hireable'] = users_df['hireable'].fillna(False).astype(bool)\n",
        "\n",
        "# Separate hireable and non-hireable users\n",
        "hireable_users = users_df[users_df['hireable'] == True]\n",
        "non_hireable_users = users_df[users_df['hireable'] == False]\n",
        "\n",
        "# Calculate fraction with email for both groups, checking if groups are non-empty\n",
        "hireable_email_fraction = hireable_users['email'].notna().mean() if not hireable_users.empty else 0\n",
        "non_hireable_email_fraction = non_hireable_users['email'].notna().mean() if not non_hireable_users.empty else 0\n",
        "\n",
        "# Compute the difference\n",
        "difference_email_fraction = round(hireable_email_fraction - non_hireable_email_fraction, 3)\n",
        "print(difference_email_fraction)"
      ],
      "metadata": {
        "colab": {
          "base_uri": "https://localhost:8080/"
        },
        "collapsed": true,
        "id": "rLJfqzZjhp7K",
        "outputId": "b8f72800-dc04-4fd9-9352-b1b0c43fd010"
      },
      "execution_count": 5,
      "outputs": [
        {
          "output_type": "stream",
          "name": "stdout",
          "text": [
            "0.222\n"
          ]
        },
        {
          "output_type": "stream",
          "name": "stderr",
          "text": [
            "<ipython-input-5-795c2c9a3b93>:2: FutureWarning: Downcasting object dtype arrays on .fillna, .ffill, .bfill is deprecated and will change in a future version. Call result.infer_objects(copy=False) instead. To opt-in to the future behavior, set `pd.set_option('future.no_silent_downcasting', True)`\n",
            "  users_df['hireable'] = users_df['hireable'].fillna(False).astype(bool)\n"
          ]
        }
      ]
    },
    {
      "cell_type": "markdown",
      "source": [
        "\n",
        "\n",
        "\n",
        "---\n",
        "\n",
        "\n",
        "*16.   Let's assume that the last word in a user's name is their surname (ignore missing names, trim and split by whitespace.) What's the most common surname? (If there's a tie, list them all, comma-separated, alphabetically)*\n",
        "\n",
        "\n",
        "\n",
        "---\n",
        "\n"
      ],
      "metadata": {
        "id": "EN4pxH3yYusJ"
      }
    },
    {
      "cell_type": "code",
      "source": [
        "# Filter out users with missing or empty 'name'\n",
        "users_with_name = users_df[users_df['name'].notna() & (users_df['name'] != '')]"
      ],
      "metadata": {
        "id": "yE71xE7eYywU"
      },
      "execution_count": null,
      "outputs": []
    },
    {
      "cell_type": "code",
      "source": [
        "# Extract the last word from 'name' as the surname\n",
        "users_with_name['surname'] = users_with_name['name'].str.strip().str.split().str[-1]"
      ],
      "metadata": {
        "colab": {
          "base_uri": "https://localhost:8080/"
        },
        "collapsed": true,
        "id": "2eGGMKzcYy3U",
        "outputId": "bdf8041c-fe96-453b-f1a6-f07ef4ee05d0"
      },
      "execution_count": null,
      "outputs": [
        {
          "output_type": "stream",
          "name": "stderr",
          "text": [
            "<ipython-input-93-96501fa48f10>:2: SettingWithCopyWarning: \n",
            "A value is trying to be set on a copy of a slice from a DataFrame.\n",
            "Try using .loc[row_indexer,col_indexer] = value instead\n",
            "\n",
            "See the caveats in the documentation: https://pandas.pydata.org/pandas-docs/stable/user_guide/indexing.html#returning-a-view-versus-a-copy\n",
            "  users_with_name['surname'] = users_with_name['name'].str.strip().str.split().str[-1]\n"
          ]
        }
      ]
    },
    {
      "cell_type": "code",
      "source": [
        "# Count occurrences of each surname\n",
        "surname_counts = users_with_name['surname'].value_counts()"
      ],
      "metadata": {
        "id": "jW7nXIE-Yy9Z"
      },
      "execution_count": null,
      "outputs": []
    },
    {
      "cell_type": "code",
      "source": [
        "# Find the maximum count\n",
        "max_count = surname_counts.max()"
      ],
      "metadata": {
        "id": "tLCNKTEdY-cW"
      },
      "execution_count": null,
      "outputs": []
    },
    {
      "cell_type": "code",
      "source": [
        "# Get all surnames with the maximum count\n",
        "most_common_surnames = surname_counts[surname_counts == max_count].index.tolist()"
      ],
      "metadata": {
        "id": "UeaNIo3JY-jD"
      },
      "execution_count": null,
      "outputs": []
    },
    {
      "cell_type": "code",
      "source": [
        "# Sort alphabetically if there's a tie and output as comma-separated string\n",
        "most_common_surnames.sort()\n",
        "print(','.join(most_common_surnames))"
      ],
      "metadata": {
        "colab": {
          "base_uri": "https://localhost:8080/"
        },
        "id": "X7brq9kRZFYv",
        "outputId": "4a2b745f-dd30-4d69-e1a4-cdff0aa26426"
      },
      "execution_count": null,
      "outputs": [
        {
          "output_type": "stream",
          "name": "stdout",
          "text": [
            "Singh\n"
          ]
        }
      ]
    }
  ]
}